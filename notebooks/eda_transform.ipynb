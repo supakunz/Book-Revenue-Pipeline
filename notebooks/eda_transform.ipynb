{
 "cells": [
  {
   "cell_type": "markdown",
   "id": "3928f1ef",
   "metadata": {},
   "source": [
    "## Book Revenue Pipeline - EDA & Transformation\n",
    "\n",
    "วิเคราะห์ข้อมูลยอดขายหนังสือจากไฟล์ CSV ด้วย PySpark เพื่อเตรียมข้อมูลสำหรับนำไปใช้ในขั้นตอนถัดไปของ data pipeline เช่น การโหลดลง data warehouse หรือการทำ dashboard"
   ]
  },
  {
   "cell_type": "markdown",
   "id": "7ec73671",
   "metadata": {},
   "source": [
    "### 1. Initialize Spark Session"
   ]
  },
  {
   "cell_type": "markdown",
   "id": "21b4baf5",
   "metadata": {},
   "source": [
    "- สร้าง SparkSession เพื่อใช้ประมวลผลข้อมูลด้วย PySpark"
   ]
  },
  {
   "cell_type": "markdown",
   "id": "8c2abe36",
   "metadata": {},
   "source": [
    "- ใช้ Spark อ่านจาก MySQL โดยตรงผ่าน JDBC ถ้าเป็น data ที่มาก เร็วกว่าและมีประสิทธิภาพกว่า"
   ]
  },
  {
   "cell_type": "markdown",
   "id": "c5939fda",
   "metadata": {},
   "source": [
    "💡 ข้อควรระวัง\n",
    "\n",
    "- ถ้าข้อมูลเยอะมาก (> หลายล้านแถว) การดึงด้วย PyMySQL แบบปกติอาจช้าและใช้หน่วยความจำเยอะ\n",
    "\n",
    "- กรณีข้อมูลใหญ่ แนะนำใช้ Spark อ่านจาก MySQL ผ่าน JDBC โดยตรง"
   ]
  },
  {
   "cell_type": "code",
   "execution_count": 13,
   "id": "c478aacb",
   "metadata": {},
   "outputs": [],
   "source": [
    "jar_path = \"E:\\Personal_Data\\DataTH\\Project\\Book-Revenue-Pipeline-GCP\\jars\\mysql-connector-j-9.4.0.jar\""
   ]
  },
  {
   "cell_type": "code",
   "execution_count": 14,
   "id": "45008bba",
   "metadata": {},
   "outputs": [],
   "source": [
    "from pyspark.sql import SparkSession\n",
    "\n",
    "spark = SparkSession.builder \\\n",
    "  .appName(\"Book_Revenue_Pipeline\") \\\n",
    "  .config(\"spark.jars\", jar_path) \\\n",
    "  .getOrCreate()"
   ]
  },
  {
   "cell_type": "code",
   "execution_count": 15,
   "id": "f21e39d8",
   "metadata": {},
   "outputs": [
    {
     "name": "stdout",
     "output_type": "stream",
     "text": [
      "E:\\Personal_Data\\DataTH\\Project\\Book-Revenue-Pipeline-GCP\\jars\\mysql-connector-j-9.4.0.jar\n"
     ]
    }
   ],
   "source": [
    "print(spark.sparkContext._conf.get(\"spark.jars\"))"
   ]
  },
  {
   "cell_type": "markdown",
   "id": "50c3b183",
   "metadata": {},
   "source": [
    "### 2. Load Raw Data"
   ]
  },
  {
   "cell_type": "code",
   "execution_count": 17,
   "id": "2e510823",
   "metadata": {},
   "outputs": [],
   "source": [
    "df = spark.read.format(\"jdbc\") \\\n",
    "    .option(\"url\", \"jdbc:mysql://localhost:3307/airflow_db\") \\\n",
    "    .option(\"dbtable\", \"data_audible\") \\\n",
    "    .option(\"user\", \"root\") \\\n",
    "    .option(\"password\", \"rootpass\") \\\n",
    "    .option(\"driver\", \"com.mysql.cj.jdbc.Driver\") \\\n",
    "    .load()\n"
   ]
  },
  {
   "cell_type": "markdown",
   "id": "c6f63835",
   "metadata": {},
   "source": [
    "- โหลดข้อมูลจาก Database ผ่าน JDBC ( Java Database Connectivity )"
   ]
  },
  {
   "cell_type": "code",
   "execution_count": 11,
   "id": "7be9bf7f",
   "metadata": {},
   "outputs": [],
   "source": [
    "# อ่านข้อมูลจาก MySQL\n",
    "df = spark.read.format(\"jdbc\").options(\n",
    "    url=\"jdbc:mysql://localhost:3307/airflow_db\",  # พอร์ตตาม config\n",
    "    driver=\"com.mysql.cj.jdbc.Driver\",\n",
    "    dbtable=\"data_audible\",  # ชื่อตารางใน MySQL\n",
    "    user=\"root\",\n",
    "    password=\"rootpass\"\n",
    ").load()"
   ]
  },
  {
   "cell_type": "code",
   "execution_count": 18,
   "id": "f25b66cf",
   "metadata": {},
   "outputs": [],
   "source": [
    "# บันทึก raw data\n",
    "df.write.mode(\"overwrite\").option(\"header\", True).csv(\"../data/raw/database/raw_audible_data.csv\")"
   ]
  },
  {
   "cell_type": "markdown",
   "id": "4be9b6ad",
   "metadata": {},
   "source": [
    "- โหลดข้อมูลจาก API"
   ]
  },
  {
   "cell_type": "code",
   "execution_count": null,
   "id": "82317cb1",
   "metadata": {},
   "outputs": [],
   "source": [
    "import requests\n",
    "import pandas as pd\n",
    "import json\n",
    "\n",
    "url = \"http://localhost:3000/conversion_rates\"\n",
    "\n",
    "# ดึงข้อมูลจาก API\n",
    "response = requests.get(url)\n",
    "result_data = response.json() # แปลงจาก json เป็น object\n",
    "\n",
    "# บันทึกแบบ newline-delimited JSON (Spark format)\n",
    "with open(\"../data/raw/database/conversion_rates.json\", \"w\") as f:\n",
    "    for row in result_data:\n",
    "        f.write(json.dumps(row) + \"\\n\")"
   ]
  },
  {
   "cell_type": "code",
   "execution_count": null,
   "id": "b1085a5c",
   "metadata": {},
   "outputs": [],
   "source": [
    "# อ่านข้อมูลจาก json โดยใช้ spark\n",
    "df_conversion_rates = spark.read.json(\"../data/raw/database/conversion_rates.json\")"
   ]
  },
  {
   "cell_type": "code",
   "execution_count": 7,
   "id": "0ee32eec",
   "metadata": {},
   "outputs": [
    {
     "name": "stdout",
     "output_type": "stream",
     "text": [
      "root\n",
      " |-- conversion_rate: double (nullable = true)\n",
      " |-- date: string (nullable = true)\n",
      " |-- id: string (nullable = true)\n",
      "\n",
      "+---------------+----------+----+\n",
      "|conversion_rate|      date|  id|\n",
      "+---------------+----------+----+\n",
      "|         31.194|2021-04-01|dc1b|\n",
      "|          31.29|2021-04-02|ac7a|\n",
      "|         31.256|2021-04-03|b741|\n",
      "|         31.244|2021-04-04|eaa3|\n",
      "|         31.342|2021-04-05|7caa|\n",
      "+---------------+----------+----+\n",
      "only showing top 5 rows\n",
      "\n"
     ]
    }
   ],
   "source": [
    "df_conversion_rates.printSchema()\n",
    "df_conversion_rates.show(5)"
   ]
  },
  {
   "cell_type": "markdown",
   "id": "a68f163c",
   "metadata": {},
   "source": [
    "### 3. Initial Data Exploration and Exploratory Data Analysis (EDA)"
   ]
  },
  {
   "cell_type": "markdown",
   "id": "2774c697",
   "metadata": {},
   "source": [
    "  ##### 3.1 Data Profiling"
   ]
  },
  {
   "cell_type": "markdown",
   "id": "798250ec",
   "metadata": {},
   "source": [
    "- ดู schema และตัวอย่างข้อมูลเพื่อตรวจสอบว่า column มีชนิดข้อมูลถูกต้องหรือไม่"
   ]
  },
  {
   "cell_type": "code",
   "execution_count": 8,
   "id": "ae3ff6c4",
   "metadata": {},
   "outputs": [
    {
     "name": "stdout",
     "output_type": "stream",
     "text": [
      "root\n",
      " |-- timestamp: string (nullable = true)\n",
      " |-- user_id: string (nullable = true)\n",
      " |-- book_id: string (nullable = true)\n",
      " |-- country: string (nullable = true)\n",
      " |-- Book Title: string (nullable = true)\n",
      " |-- Book Subtitle: string (nullable = true)\n",
      " |-- Book Author: string (nullable = true)\n",
      " |-- Book Narrator: string (nullable = true)\n",
      " |-- Audio Runtime: string (nullable = true)\n",
      " |-- Audiobook_Type: string (nullable = true)\n",
      " |-- Categories: string (nullable = true)\n",
      " |-- Rating: string (nullable = true)\n",
      " |-- Total No. of Rating: string (nullable = true)\n",
      " |-- Price: string (nullable = true)\n",
      "\n",
      "+-------------+--------+-------+--------------------+--------------------+--------------------+-------------+---------------+------------------+--------------------+--------------------+------+-------------------+---------+\n",
      "|    timestamp| user_id|book_id|             country|          Book Title|       Book Subtitle|  Book Author|  Book Narrator|     Audio Runtime|      Audiobook_Type|          Categories|Rating|Total No. of Rating|    Price|\n",
      "+-------------+--------+-------+--------------------+--------------------+--------------------+-------------+---------------+------------------+--------------------+--------------------+------+-------------------+---------+\n",
      "|1/5/2021 0:00|ad8eca41|   1584|            Portugal|        Sycamore Row|                    | John Grisham|   Michael Beck|20 hrs and 46 mins|Unabridged Audiobook|Mystery, Thriller...|   4.6|              25863|$35.00 \\r|\n",
      "|1/5/2021 0:00|561b26c1|    829|United States of ...|The 5 Love Langua...|The Secret to Lov...| Gary Chapman|    Chris Fabry| 5 hrs and 48 mins|Unabridged Audiobook|Relationships, Pa...|   4.8|               2441|$19.59 \\r|\n",
      "|1/5/2021 0:00|81f149e5|   1391|               Japan|       The Guardians|             A Novel| John Grisham|   Michael Beck|11 hrs and 50 mins|Unabridged Audiobook|Mystery, Thriller...|   4.6|              26781|$31.50 \\r|\n",
      "|1/5/2021 0:00|4f218413|   1586|              Taiwan|  How to Be a 3% Man|                    |  Corey Wayne|    Corey Wayne| 7 hrs and 33 mins|Unabridged Audiobook|Relationships, Pa...|   4.8|              11459|$19.95 \\r|\n",
      "|1/5/2021 0:00|a4066781|    300|United States of ...|Napoleon Hill's O...|The Secret to Fre...|Napoleon Hill|Dan John Miller| 5 hrs and 51 mins|Unabridged Audiobook|  Business & Careers|   4.8|               9305|$17.49 \\r|\n",
      "+-------------+--------+-------+--------------------+--------------------+--------------------+-------------+---------------+------------------+--------------------+--------------------+------+-------------------+---------+\n",
      "only showing top 5 rows\n",
      "\n",
      "Row : 1048575\n"
     ]
    }
   ],
   "source": [
    "df.printSchema() # แสดงรายละเอียด Schema\n",
    "df.show(5) # แสดงตาราง\n",
    "print(\"Row :\", df.count())"
   ]
  },
  {
   "cell_type": "markdown",
   "id": "c989e145",
   "metadata": {},
   "source": [
    "##### 3.2 Missing Values"
   ]
  },
  {
   "cell_type": "markdown",
   "id": "52ec6401",
   "metadata": {},
   "source": [
    "- ตรวจสอบว่าคอลัมน์ใดมี missing/null values ที่อาจต้องจัดการ"
   ]
  },
  {
   "cell_type": "markdown",
   "id": "92a20b1a",
   "metadata": {},
   "source": [
    "- `null` — คือค่าที่ “ไม่มีข้อมูล” หรือ “ว่าง” ใช้ได้กับทุกชนิดข้อมูล (string, number, date, ฯลฯ)\n",
    "\n",
    "- `NaN` — เป็นค่าพิเศษที่เกิดกับข้อมูลตัวเลข (float, double) แสดงว่า “ค่าไม่ใช่ตัวเลข” ค่าที่ข้อมูลเสียหาย"
   ]
  },
  {
   "cell_type": "markdown",
   "id": "22abbc52",
   "metadata": {},
   "source": [
    "1.กรณีที่มี data type เป็น string ทั้งหมดหาค่า Missing Value"
   ]
  },
  {
   "cell_type": "markdown",
   "id": "405690c8",
   "metadata": {},
   "source": [
    "📌 คำอธิบาย\n",
    "- `isNull()`: เช็กค่าที่เป็น null จริง\n",
    "\n",
    "- `trim(col(c)) == \"\"`: เช็กค่าว่าง (`''` หรือ `' '`)\n",
    "\n",
    "- `lower(trim(col(c))) == \"null\"`: กรณีเขียนว่า `\"null\"` (เป็น string)"
   ]
  },
  {
   "cell_type": "code",
   "execution_count": 9,
   "id": "53779d7b",
   "metadata": {},
   "outputs": [
    {
     "name": "stdout",
     "output_type": "stream",
     "text": [
      "+---------+-------+-------+-------+----------+-------------+-----------+-------------+-------------+--------------+----------+------+-------------------+-----+\n",
      "|timestamp|user_id|book_id|country|Book Title|Book Subtitle|Book Author|Book Narrator|Audio Runtime|Audiobook_Type|Categories|Rating|Total No. of Rating|Price|\n",
      "+---------+-------+-------+-------+----------+-------------+-----------+-------------+-------------+--------------+----------+------+-------------------+-----+\n",
      "|0        |0      |0      |0      |0         |406453       |0          |1891         |0            |2113          |11740     |7697  |9588               |0    |\n",
      "+---------+-------+-------+-------+----------+-------------+-----------+-------------+-------------+--------------+----------+------+-------------------+-----+\n",
      "\n"
     ]
    }
   ],
   "source": [
    "from pyspark.sql.functions import col, when, count, trim, lower\n",
    "\n",
    "df.select([\n",
    "    count(\n",
    "        when(\n",
    "            col(f\"`{c}`\").isNull() | # f\"`{c}`\" แบบนี้เพราะชื่อ col มีการใช้ . หรือ ช่องว่าง \n",
    "            (trim(col(f\"`{c}`\")) == \"\") | \n",
    "            (lower(trim(col(f\"`{c}`\"))) == \"null\"),c\n",
    "        )\n",
    "    ).alias(c)\n",
    "    for c in df.columns\n",
    "]).show(truncate=False)"
   ]
  },
  {
   "cell_type": "markdown",
   "id": "424c3ab1",
   "metadata": {},
   "source": [
    "2.กรณีที่มี data type มี float, double อยู่ด้วยต้องหา `null` และ `NaN` ให้ใช้แบบนี้ "
   ]
  },
  {
   "cell_type": "code",
   "execution_count": 10,
   "id": "69766497",
   "metadata": {},
   "outputs": [
    {
     "name": "stdout",
     "output_type": "stream",
     "text": [
      "+---------+-------+-------+-------+----------+-------------+-----------+-------------+-------------+--------------+----------+------+-------------------+-----+\n",
      "|timestamp|user_id|book_id|country|Book Title|Book Subtitle|Book Author|Book Narrator|Audio Runtime|Audiobook_Type|Categories|Rating|Total No. of Rating|Price|\n",
      "+---------+-------+-------+-------+----------+-------------+-----------+-------------+-------------+--------------+----------+------+-------------------+-----+\n",
      "|        0|      0|      0|      0|         0|            0|          0|            0|            0|             0|         0|     0|                  0|    0|\n",
      "+---------+-------+-------+-------+----------+-------------+-----------+-------------+-------------+--------------+----------+------+-------------------+-----+\n",
      "\n"
     ]
    }
   ],
   "source": [
    "from pyspark.sql.functions import col, isnan, count, when\n",
    "from pyspark.sql.types import FloatType, DoubleType, NumericType\n",
    "\n",
    "# นับจำนวนหาค่า null และ NaN\n",
    "def count_missing(df):\n",
    "    exprs = []\n",
    "    for c, dtype in df.dtypes:\n",
    "        if dtype in ('float', 'double'):\n",
    "            expr = count(when(col(f\"`{c}`\").isNull() | isnan(col(f\"`{c}`\")), c)).alias(c)\n",
    "        else:\n",
    "            expr = count(when(col(f\"`{c}`\").isNull(), c)).alias(c)\n",
    "        exprs.append(expr)\n",
    "    return df.select(exprs)\n",
    "\n",
    "count_missing(df).show()\n"
   ]
  },
  {
   "cell_type": "markdown",
   "id": "1a3c0072",
   "metadata": {},
   "source": [
    "##### ❌กรณีที่เจอค่า null"
   ]
  },
  {
   "cell_type": "markdown",
   "id": "dc1f945d",
   "metadata": {},
   "source": [
    "##### ✅ เช็กทุกแถวที่มี null"
   ]
  },
  {
   "cell_type": "code",
   "execution_count": 11,
   "id": "a39e769e",
   "metadata": {},
   "outputs": [
    {
     "name": "stdout",
     "output_type": "stream",
     "text": [
      "+-------------+--------+-------+---------------+--------------------+-------------+-----------------+---------------+------------------+--------------------+--------------------+------+-------------------+---------+\n",
      "|    timestamp| user_id|book_id|        country|          Book Title|Book Subtitle|      Book Author|  Book Narrator|     Audio Runtime|      Audiobook_Type|          Categories|Rating|Total No. of Rating|    Price|\n",
      "+-------------+--------+-------+---------------+--------------------+-------------+-----------------+---------------+------------------+--------------------+--------------------+------+-------------------+---------+\n",
      "|1/5/2021 0:00|ad8eca41|   1584|       Portugal|        Sycamore Row|             |     John Grisham|   Michael Beck|20 hrs and 46 mins|Unabridged Audiobook|Mystery, Thriller...|   4.6|              25863|$35.00 \\r|\n",
      "|1/5/2021 0:00|4f218413|   1586|         Taiwan|  How to Be a 3% Man|             |      Corey Wayne|    Corey Wayne| 7 hrs and 33 mins|Unabridged Audiobook|Relationships, Pa...|   4.8|              11459|$19.95 \\r|\n",
      "|1/5/2021 0:00|30b900d5|   1556|        Algeria|Arcanum Unbounded...|             |Brandon Sanderson| Michael Kramer|22 hrs and 31 mins|Unabridged Audiobook|Literature & Fiction|   4.8|              14108|$48.99 \\r|\n",
      "|1/5/2021 0:00|790ad1df|    524|    New Zealand|     The Kite Runner|             |  Khaled Hosseini|Khaled Hosseini|  12 hrs and 1 min|Unabridged Audiobook|Literature & Fiction|   4.6|              16164|$31.93 \\r|\n",
      "|1/5/2021 0:00|980adb4b|     74|United Kingdom |                Dune|             |    Frank Herbert|    Scott Brick| 21 hrs and 2 mins|Unabridged Audiobook|Science Fiction &...|   4.6|              73222|$47.93 \\r|\n",
      "+-------------+--------+-------+---------------+--------------------+-------------+-----------------+---------------+------------------+--------------------+--------------------+------+-------------------+---------+\n",
      "only showing top 5 rows\n",
      "\n"
     ]
    }
   ],
   "source": [
    "from functools import reduce\n",
    "from pyspark.sql.functions import col\n",
    "\n",
    "# สร้าง filter สำหรับทุก column\n",
    "null_filter = [col(f\"`{c}`\").isNull() | \n",
    "               (trim(col(f\"`{c}`\")) == \"\") |\n",
    "               (lower(trim(col(f\"`{c}`\"))) == \"null\")\n",
    "               for c in df.columns]\n",
    "df.filter(reduce(lambda a, b: a | b, null_filter)).show(5)"
   ]
  },
  {
   "cell_type": "markdown",
   "id": "ee7933dc",
   "metadata": {},
   "source": [
    "##### ดังนั้นเวลาตรวจสอบข้อมูล\n",
    "\n",
    "- เราเช็คชนิดข้อมูล (dtype) ของแต่ละคอลัมน์\n",
    "\n",
    "- สำหรับ string หรือชนิดอื่น ๆ ที่ไม่ใช่ตัวเลข → เช็คแค่ `null` ก็พอ\n",
    "\n",
    "- สำหรับ ตัวเลข (float, double) → ควรเช็คทั้ง `null` และ `NaN` เพื่อครอบคลุมทุกกรณี\n"
   ]
  },
  {
   "cell_type": "markdown",
   "id": "75bb5ecc",
   "metadata": {},
   "source": [
    "### 4. Data Cleaning"
   ]
  },
  {
   "cell_type": "markdown",
   "id": "bf0ab04f",
   "metadata": {},
   "source": [
    "- การทำความสะอาดข้อมูล"
   ]
  },
  {
   "cell_type": "markdown",
   "id": "aaf85d9d",
   "metadata": {},
   "source": [
    "##### 4.1 Convert Data Types"
   ]
  },
  {
   "cell_type": "markdown",
   "id": "9d0c7d2d",
   "metadata": {},
   "source": [
    "- แปลง data type ของ column เปลี่ยนชนิดข้อมูลให้ถูกต้อง"
   ]
  },
  {
   "cell_type": "code",
   "execution_count": 12,
   "id": "be900d85",
   "metadata": {},
   "outputs": [
    {
     "name": "stdout",
     "output_type": "stream",
     "text": [
      "root\n",
      " |-- timestamp: string (nullable = true)\n",
      " |-- user_id: string (nullable = true)\n",
      " |-- book_id: string (nullable = true)\n",
      " |-- country: string (nullable = true)\n",
      " |-- Book Title: string (nullable = true)\n",
      " |-- Book Subtitle: string (nullable = true)\n",
      " |-- Book Author: string (nullable = true)\n",
      " |-- Book Narrator: string (nullable = true)\n",
      " |-- Audio Runtime: string (nullable = true)\n",
      " |-- Audiobook_Type: string (nullable = true)\n",
      " |-- Categories: string (nullable = true)\n",
      " |-- Rating: string (nullable = true)\n",
      " |-- Total No. of Rating: string (nullable = true)\n",
      " |-- Price: string (nullable = true)\n",
      "\n"
     ]
    }
   ],
   "source": [
    "df.printSchema()"
   ]
  },
  {
   "cell_type": "markdown",
   "id": "4f465d8c",
   "metadata": {},
   "source": [
    "- แปลง `timestamp` เป็น type date และ data type ของ col อื่นๆ"
   ]
  },
  {
   "cell_type": "code",
   "execution_count": 13,
   "id": "86e76d15",
   "metadata": {},
   "outputs": [],
   "source": [
    "from pyspark.sql.functions import to_timestamp, col, to_date\n",
    "from pyspark.sql.types import FloatType, IntegerType, DoubleType\n",
    "\n",
    "df_converted_types = (df.withColumn(\"timestamp\", to_timestamp(\"timestamp\", \"d/M/yyyy H:mm\"))\n",
    "                        .withColumn(\"book_id\", col(\"book_id\").cast(IntegerType()))\n",
    "                        .withColumn(\"rating\", col(\"Rating\").cast(DoubleType()))\n",
    "                        .withColumnRenamed(\"Total No. of Rating\", \"total_rating_count\")\n",
    "                        .withColumn(\"total_rating_count\", col(\"total_rating_count\").cast(IntegerType()))\n",
    "                        .withColumn(\"date\", to_date(col(\"timestamp\")))  # ⬅️ เพิ่มตรงนี้\n",
    "                      )"
   ]
  },
  {
   "cell_type": "code",
   "execution_count": 14,
   "id": "a3747f99",
   "metadata": {},
   "outputs": [
    {
     "name": "stdout",
     "output_type": "stream",
     "text": [
      "root\n",
      " |-- timestamp: timestamp (nullable = true)\n",
      " |-- user_id: string (nullable = true)\n",
      " |-- book_id: integer (nullable = true)\n",
      " |-- country: string (nullable = true)\n",
      " |-- Book Title: string (nullable = true)\n",
      " |-- Book Subtitle: string (nullable = true)\n",
      " |-- Book Author: string (nullable = true)\n",
      " |-- Book Narrator: string (nullable = true)\n",
      " |-- Audio Runtime: string (nullable = true)\n",
      " |-- Audiobook_Type: string (nullable = true)\n",
      " |-- Categories: string (nullable = true)\n",
      " |-- rating: double (nullable = true)\n",
      " |-- total_rating_count: integer (nullable = true)\n",
      " |-- Price: string (nullable = true)\n",
      " |-- date: date (nullable = true)\n",
      "\n"
     ]
    }
   ],
   "source": [
    "df_converted_types.printSchema()"
   ]
  },
  {
   "cell_type": "markdown",
   "id": "f8fbfe1d",
   "metadata": {},
   "source": [
    "✅ คำอธิบาย:"
   ]
  },
  {
   "cell_type": "markdown",
   "id": "b5821eb7",
   "metadata": {},
   "source": [
    "- เปลี่ยน col ให้อยู่ในรูปแบบที่ถูกต้อง\n",
    "\n",
    "- เปลี่ยนชื่อ col เป็น snake case และ ตัวเล็ก *\n",
    "\n",
    "- สร้าง col ใหม่ชื่อ date ใช้สำหรับการ join table"
   ]
  },
  {
   "cell_type": "code",
   "execution_count": 15,
   "id": "a2ac3d64",
   "metadata": {},
   "outputs": [
    {
     "name": "stdout",
     "output_type": "stream",
     "text": [
      "+-------------------+--------+-------+--------------------+--------------------+--------------------+-------------+---------------+------------------+--------------------+--------------------+------+------------------+---------+----------+\n",
      "|          timestamp| user_id|book_id|             country|          Book Title|       Book Subtitle|  Book Author|  Book Narrator|     Audio Runtime|      Audiobook_Type|          Categories|rating|total_rating_count|    Price|      date|\n",
      "+-------------------+--------+-------+--------------------+--------------------+--------------------+-------------+---------------+------------------+--------------------+--------------------+------+------------------+---------+----------+\n",
      "|2021-05-01 00:00:00|ad8eca41|   1584|            Portugal|        Sycamore Row|                    | John Grisham|   Michael Beck|20 hrs and 46 mins|Unabridged Audiobook|Mystery, Thriller...|   4.6|             25863|$35.00 \\r|2021-05-01|\n",
      "|2021-05-01 00:00:00|561b26c1|    829|United States of ...|The 5 Love Langua...|The Secret to Lov...| Gary Chapman|    Chris Fabry| 5 hrs and 48 mins|Unabridged Audiobook|Relationships, Pa...|   4.8|              2441|$19.59 \\r|2021-05-01|\n",
      "|2021-05-01 00:00:00|81f149e5|   1391|               Japan|       The Guardians|             A Novel| John Grisham|   Michael Beck|11 hrs and 50 mins|Unabridged Audiobook|Mystery, Thriller...|   4.6|             26781|$31.50 \\r|2021-05-01|\n",
      "|2021-05-01 00:00:00|4f218413|   1586|              Taiwan|  How to Be a 3% Man|                    |  Corey Wayne|    Corey Wayne| 7 hrs and 33 mins|Unabridged Audiobook|Relationships, Pa...|   4.8|             11459|$19.95 \\r|2021-05-01|\n",
      "|2021-05-01 00:00:00|a4066781|    300|United States of ...|Napoleon Hill's O...|The Secret to Fre...|Napoleon Hill|Dan John Miller| 5 hrs and 51 mins|Unabridged Audiobook|  Business & Careers|   4.8|              9305|$17.49 \\r|2021-05-01|\n",
      "+-------------------+--------+-------+--------------------+--------------------+--------------------+-------------+---------------+------------------+--------------------+--------------------+------+------------------+---------+----------+\n",
      "only showing top 5 rows\n",
      "\n"
     ]
    }
   ],
   "source": [
    "df_converted_types.show(5)"
   ]
  },
  {
   "cell_type": "markdown",
   "id": "d485ca3a",
   "metadata": {},
   "source": [
    "- แปลง `order_date` จาก Type String เป็น Date Type แล้ว"
   ]
  },
  {
   "cell_type": "markdown",
   "id": "f5fcfb8a",
   "metadata": {},
   "source": [
    "แปลง data type ของ `conversion_rates`"
   ]
  },
  {
   "cell_type": "code",
   "execution_count": null,
   "id": "57bafdce",
   "metadata": {},
   "outputs": [],
   "source": [
    "from pyspark.sql.functions import to_date\n",
    "\n",
    "df_conversion_rates = (df_conversion_rates.withColumn(\"date\", to_date(col(\"date\"))))"
   ]
  },
  {
   "cell_type": "code",
   "execution_count": 17,
   "id": "9e3fb066",
   "metadata": {},
   "outputs": [
    {
     "name": "stdout",
     "output_type": "stream",
     "text": [
      "root\n",
      " |-- conversion_rate: double (nullable = true)\n",
      " |-- date: date (nullable = true)\n",
      " |-- id: string (nullable = true)\n",
      "\n",
      "+---------------+----------+----+\n",
      "|conversion_rate|      date|  id|\n",
      "+---------------+----------+----+\n",
      "|         31.194|2021-04-01|dc1b|\n",
      "|          31.29|2021-04-02|ac7a|\n",
      "|         31.256|2021-04-03|b741|\n",
      "|         31.244|2021-04-04|eaa3|\n",
      "|         31.342|2021-04-05|7caa|\n",
      "+---------------+----------+----+\n",
      "only showing top 5 rows\n",
      "\n"
     ]
    }
   ],
   "source": [
    "df_conversion_rates.printSchema()\n",
    "df_conversion_rates.show(5)"
   ]
  },
  {
   "cell_type": "code",
   "execution_count": 18,
   "id": "6d5ebd88",
   "metadata": {},
   "outputs": [
    {
     "name": "stdout",
     "output_type": "stream",
     "text": [
      "+---------------+----------+----+\n",
      "|conversion_rate|      date|  id|\n",
      "+---------------+----------+----+\n",
      "|         31.194|2021-04-01|dc1b|\n",
      "+---------------+----------+----+\n",
      "\n"
     ]
    }
   ],
   "source": [
    "from pyspark.sql.functions import col\n",
    "\n",
    "df_conversion_rates.filter(col(\"date\") == \"2021-04-01\").show()"
   ]
  },
  {
   "cell_type": "code",
   "execution_count": 19,
   "id": "36deed9b",
   "metadata": {},
   "outputs": [
    {
     "name": "stdout",
     "output_type": "stream",
     "text": [
      "+---------------+----------+----+\n",
      "|conversion_rate|      date|  id|\n",
      "+---------------+----------+----+\n",
      "|          31.14|2021-05-01|2055|\n",
      "|          31.14|2021-06-10|a097|\n",
      "+---------------+----------+----+\n",
      "\n"
     ]
    }
   ],
   "source": [
    "df_conversion_rates.filter(df_conversion_rates.conversion_rate == \"31.14\").show()"
   ]
  },
  {
   "cell_type": "markdown",
   "id": "0bfdce45",
   "metadata": {},
   "source": [
    "รวม table ของ `df_conversion_rates` และ `df_converted_types`"
   ]
  },
  {
   "cell_type": "code",
   "execution_count": 20,
   "id": "07d1b677",
   "metadata": {},
   "outputs": [],
   "source": [
    "# join 2 dataframe\n",
    "df_joined = df_converted_types.join(df_conversion_rates, on=\"date\", how=\"left\")"
   ]
  },
  {
   "cell_type": "code",
   "execution_count": 21,
   "id": "0c3b3b08",
   "metadata": {},
   "outputs": [
    {
     "name": "stdout",
     "output_type": "stream",
     "text": [
      "+----------+-------------------+--------+-------+--------------------+--------------------+--------------------+------------------+---------------+------------------+--------------------+--------------------+------+------------------+---------+---------------+----+\n",
      "|      date|          timestamp| user_id|book_id|             country|          Book Title|       Book Subtitle|       Book Author|  Book Narrator|     Audio Runtime|      Audiobook_Type|          Categories|rating|total_rating_count|    Price|conversion_rate|  id|\n",
      "+----------+-------------------+--------+-------+--------------------+--------------------+--------------------+------------------+---------------+------------------+--------------------+--------------------+------+------------------+---------+---------------+----+\n",
      "|2021-05-01|2021-05-01 00:00:00|ad8eca41|   1584|            Portugal|        Sycamore Row|                    |      John Grisham|   Michael Beck|20 hrs and 46 mins|Unabridged Audiobook|Mystery, Thriller...|   4.6|             25863|$35.00 \\r|          31.14|2055|\n",
      "|2021-05-01|2021-05-01 00:00:00|561b26c1|    829|United States of ...|The 5 Love Langua...|The Secret to Lov...|      Gary Chapman|    Chris Fabry| 5 hrs and 48 mins|Unabridged Audiobook|Relationships, Pa...|   4.8|              2441|$19.59 \\r|          31.14|2055|\n",
      "|2021-05-01|2021-05-01 00:00:00|81f149e5|   1391|               Japan|       The Guardians|             A Novel|      John Grisham|   Michael Beck|11 hrs and 50 mins|Unabridged Audiobook|Mystery, Thriller...|   4.6|             26781|$31.50 \\r|          31.14|2055|\n",
      "|2021-05-01|2021-05-01 00:00:00|4f218413|   1586|              Taiwan|  How to Be a 3% Man|                    |       Corey Wayne|    Corey Wayne| 7 hrs and 33 mins|Unabridged Audiobook|Relationships, Pa...|   4.8|             11459|$19.95 \\r|          31.14|2055|\n",
      "|2021-05-01|2021-05-01 00:00:00|a4066781|    300|United States of ...|Napoleon Hill's O...|The Secret to Fre...|     Napoleon Hill|Dan John Miller| 5 hrs and 51 mins|Unabridged Audiobook|  Business & Careers|   4.8|              9305|$17.49 \\r|          31.14|2055|\n",
      "|2021-05-01|2021-05-01 00:00:00|bbbd603a|   1377|United States of ...|       The Institute|             A Novel|      Stephen King|Santino Fontana|18 hrs and 59 mins|Unabridged Audiobook|Literature & Fiction|   4.6|             35443|$34.99 \\r|          31.14|2055|\n",
      "|2021-05-01|2021-05-01 00:00:00|f636754b|    342|              Canada|    A Clash of Kings|A Song of Ice and...|George R.R. Martin|    Roy Dotrice|37 hrs and 12 mins|Unabridged Audiobook|Science Fiction &...|   4.8|             79031|$63.00 \\r|          31.14|2055|\n",
      "|2021-05-01|2021-05-01 00:00:00|0eea4bbd|   1600|United States of ...|               Exile|Legend of Drizzt:...|   R. A. Salvatore|  Victor Bevine|10 hrs and 42 mins|Unabridged Audiobook|Science Fiction &...|   4.7|              9241|$24.95 \\r|          31.14|2055|\n",
      "|2021-05-01|2021-05-01 00:00:00|30b900d5|   1556|             Algeria|Arcanum Unbounded...|                    | Brandon Sanderson| Michael Kramer|22 hrs and 31 mins|Unabridged Audiobook|Literature & Fiction|   4.8|             14108|$48.99 \\r|          31.14|2055|\n",
      "|2021-05-01|2021-05-01 00:00:00|a208d42a|    790|United States of ...|         Dark Matter|             A Novel|      Blake Crouch|  Jon Lindstrom| 10 hrs and 8 mins|Unabridged Audiobook|Mystery, Thriller...|   4.4|             23618|$28.00 \\r|          31.14|2055|\n",
      "+----------+-------------------+--------+-------+--------------------+--------------------+--------------------+------------------+---------------+------------------+--------------------+--------------------+------+------------------+---------+---------------+----+\n",
      "only showing top 10 rows\n",
      "\n"
     ]
    }
   ],
   "source": [
    "df_joined.show(10)"
   ]
  },
  {
   "cell_type": "markdown",
   "id": "d2c83352",
   "metadata": {},
   "source": [
    "- Join แบบ `left` → ฝั่งซ้ายอยู่ครบแน่นอน\n",
    "\n",
    "- ถ้า key ไม่ match → ฝั่งขวาจะเป็น null\n",
    "\n",
    "- ฝั่งขวาค่าไหนว่าจะเอาข้อมูลที่มึอ้างอิงจากขวาไปเดิมได้และตัวไหนไม่มีอ้างอิงจะเป็น null"
   ]
  },
  {
   "cell_type": "markdown",
   "id": "265feaab",
   "metadata": {},
   "source": [
    "##### 4.2 Handle Missing or Incorrect Data"
   ]
  },
  {
   "cell_type": "markdown",
   "id": "eed1b750",
   "metadata": {},
   "source": [
    "- การข้อมูลที่เป็น missing และ outlier"
   ]
  },
  {
   "cell_type": "code",
   "execution_count": 22,
   "id": "5cf92706",
   "metadata": {},
   "outputs": [
    {
     "name": "stdout",
     "output_type": "stream",
     "text": [
      "+----+---------+-------+-------+-------+----------+-------------+-----------+-------------+-------------+--------------+----------+------+------------------+-----+---------------+---+\n",
      "|date|timestamp|user_id|book_id|country|Book Title|Book Subtitle|Book Author|Book Narrator|Audio Runtime|Audiobook_Type|Categories|rating|total_rating_count|Price|conversion_rate|id |\n",
      "+----+---------+-------+-------+-------+----------+-------------+-----------+-------------+-------------+--------------+----------+------+------------------+-----+---------------+---+\n",
      "|0   |0        |0      |0      |0      |0         |406453       |0          |1891         |0            |2113          |11740     |9810  |9588              |0    |0              |0  |\n",
      "+----+---------+-------+-------+-------+----------+-------------+-----------+-------------+-------------+--------------+----------+------+------------------+-----+---------------+---+\n",
      "\n"
     ]
    }
   ],
   "source": [
    "df_joined.select([\n",
    "    count(\n",
    "        when(\n",
    "            col(f\"`{c}`\").isNull() |\n",
    "            (trim(col(f\"`{c}`\")) == \"\") |\n",
    "            (lower(trim(col(f\"`{c}`\"))) == \"null\"), c\n",
    "        )\n",
    "    ).alias(c)\n",
    "    for c in df_joined.columns\n",
    "]).show(truncate=False)"
   ]
  },
  {
   "cell_type": "markdown",
   "id": "dab37d16",
   "metadata": {},
   "source": [
    "การจัดการกับ missing value"
   ]
  },
  {
   "cell_type": "markdown",
   "id": "25646261",
   "metadata": {},
   "source": [
    "- ใส่ `No Subtitle` แทน `null` ใน `Book Subtitle`"
   ]
  },
  {
   "cell_type": "code",
   "execution_count": 23,
   "id": "868c133f",
   "metadata": {},
   "outputs": [],
   "source": [
    "from pyspark.sql.functions import when, col\n",
    "\n",
    "df_joined = df_joined.withColumn(\n",
    "    \"Book Subtitle\",\n",
    "    when(col(\"Book Subtitle\").isNull() | \n",
    "         (trim(col(\"Book Subtitle\")) == \"\") |\n",
    "         (lower(trim(col(\"Book Subtitle\"))) == \"null\"),\n",
    "         \"No Subtitle\").otherwise(col(\"Book Subtitle\"))\n",
    ")"
   ]
  },
  {
   "cell_type": "markdown",
   "id": "6de8472f",
   "metadata": {},
   "source": [
    "- `fillna` และ `dropna` คือ 2 วิธีหลักในการจัดการ Missing Values (NaN)"
   ]
  },
  {
   "cell_type": "markdown",
   "id": "1de809e9",
   "metadata": {},
   "source": [
    "👉 ลบแถวที่มี null:"
   ]
  },
  {
   "cell_type": "markdown",
   "id": "18f6d80e",
   "metadata": {},
   "source": [
    "- การจัดการกับค่า null เราต้องตรวจสอบค่าอิ่นด้วยที่แสดงเหมือน null แบบหลอก (Fake Null) \n",
    "\n",
    "- ลบค่าอื่นที่แสดงผลเหมือน null เช่น `\"null\"` , `\"\"` (ค่าว่าง) , `\" \"` (ช่องว่าง) โดยการกำไหนดเงื่อนไข"
   ]
  },
  {
   "cell_type": "code",
   "execution_count": 24,
   "id": "6b08f2c4",
   "metadata": {},
   "outputs": [],
   "source": [
    "from functools import reduce\n",
    "from pyspark.sql.functions import col, trim, lower\n",
    "\n",
    "columns_to_check = [\n",
    "    \"date\", \"timestamp\", \"user_id\", \"book_id\", \"country\",\n",
    "    \"Book Title\", \"Book Subtitle\", \"Book Author\", \"Book Narrator\",\n",
    "    \"Audio Runtime\", \"Audiobook_Type\", \"Categories\",\n",
    "    \"rating\", \"total_rating_count\", \"Price\", \"conversion_rate\", \"id\"\n",
    "]\n",
    "\n",
    "condition = reduce(\n",
    "    lambda acc, c: acc & (\n",
    "        col(c).isNotNull() &\n",
    "        (trim(col(c)) != \"\") &\n",
    "        (lower(trim(col(c))) != \"null\")\n",
    "    ),\n",
    "    columns_to_check,\n",
    "    col(columns_to_check[0]).isNotNull()  # เริ่มต้นค่าแรกด้วยอะไรก็ได้\n",
    ")\n",
    "\n",
    "df_cleaned = df_joined.filter(condition)"
   ]
  },
  {
   "cell_type": "code",
   "execution_count": 25,
   "id": "237c190f",
   "metadata": {},
   "outputs": [
    {
     "name": "stdout",
     "output_type": "stream",
     "text": [
      "+----+---------+-------+-------+-------+----------+-------------+-----------+-------------+-------------+--------------+----------+------+------------------+-----+---------------+---+\n",
      "|date|timestamp|user_id|book_id|country|Book Title|Book Subtitle|Book Author|Book Narrator|Audio Runtime|Audiobook_Type|Categories|rating|total_rating_count|Price|conversion_rate|id |\n",
      "+----+---------+-------+-------+-------+----------+-------------+-----------+-------------+-------------+--------------+----------+------+------------------+-----+---------------+---+\n",
      "|0   |0        |0      |0      |0      |0         |0            |0          |0            |0            |0             |0         |0     |0                 |0    |0              |0  |\n",
      "+----+---------+-------+-------+-------+----------+-------------+-----------+-------------+-------------+--------------+----------+------+------------------+-----+---------------+---+\n",
      "\n"
     ]
    }
   ],
   "source": [
    "df_cleaned.select([\n",
    "    count(\n",
    "        when(\n",
    "            col(f\"`{c}`\").isNull() |\n",
    "            (trim(col(f\"`{c}`\")) == \"\") |\n",
    "            (lower(trim(col(f\"`{c}`\"))) == \"null\"), c\n",
    "        )\n",
    "    ).alias(c)\n",
    "    for c in df_cleaned.columns\n",
    "]).show(truncate=False)"
   ]
  },
  {
   "cell_type": "code",
   "execution_count": 26,
   "id": "7d9c30d2",
   "metadata": {},
   "outputs": [
    {
     "data": {
      "text/plain": [
       "1029546"
      ]
     },
     "execution_count": 26,
     "metadata": {},
     "output_type": "execute_result"
    }
   ],
   "source": [
    "df_cleaned.count()"
   ]
  },
  {
   "cell_type": "code",
   "execution_count": 27,
   "id": "69f39144",
   "metadata": {},
   "outputs": [],
   "source": [
    "import re\n",
    "from pyspark.sql import DataFrame\n",
    "\n",
    "def rename_columns_snake_case(df: DataFrame, columns: list[str]) -> DataFrame:\n",
    "    for col_name in columns:\n",
    "        new_col_name = re.sub(r'[\\s\\-]+', '_', col_name.lower())      # แทน space/dash ด้วย \"_\"\n",
    "        new_col_name = re.sub(r'[^\\w]', '', new_col_name)             # ลบอักขระพิเศษ\n",
    "        df = df.withColumnRenamed(col_name, new_col_name)\n",
    "    return df"
   ]
  },
  {
   "cell_type": "code",
   "execution_count": 28,
   "id": "82632655",
   "metadata": {},
   "outputs": [],
   "source": [
    "df_cleaned = rename_columns_snake_case(df_cleaned, columns_to_check)"
   ]
  },
  {
   "cell_type": "markdown",
   "metadata": {},
   "source": [
    "- แปลงข้อมูลใน price จาก \"$35.00\\r\" (string) เป็น 35.00 (float)"
   ]
  },
  {
   "cell_type": "code",
   "execution_count": 29,
   "id": "64b7d37c",
   "metadata": {},
   "outputs": [],
   "source": [
    "from pyspark.sql.functions import regexp_replace, trim, col\n",
    "\n",
    "df_cleaned = df_cleaned.withColumn(\n",
    "    \"price\",\n",
    "    regexp_replace(trim(col(\"price\")), \"[$\\r]\", \"\").cast(\"float\")\n",
    ")"
   ]
  },
  {
   "cell_type": "markdown",
   "id": "7483fb26",
   "metadata": {},
   "source": [
    "##### 3.3 Summary Stats (เฉพาะ numeric column)"
   ]
  },
  {
   "cell_type": "markdown",
   "id": "ddb65b33",
   "metadata": {},
   "source": [
    "- ดูสถิติเบื้องต้น เช่น ค่ามากสุด น้อยสุด ค่าเฉลี่ย ของยอดขายและจำนวน"
   ]
  },
  {
   "cell_type": "markdown",
   "id": "7a36ad14",
   "metadata": {},
   "source": [
    "✅ 1. ดูค่าคร่าว ๆ ด้วย describe()"
   ]
  },
  {
   "cell_type": "markdown",
   "id": "c89d072b",
   "metadata": {},
   "source": [
    "- ดู max ว่ามีค่าโดดสูงกว่าค่าอื่นหรือเปล่า\n",
    "\n",
    "- ดู stddev ว่าเยอะจนบ่งบอกว่าข้อมูลกระจายมากเกินไปหรือไม่"
   ]
  },
  {
   "cell_type": "code",
   "execution_count": 30,
   "id": "956ded92",
   "metadata": {},
   "outputs": [
    {
     "name": "stdout",
     "output_type": "stream",
     "text": [
      "root\n",
      " |-- date: date (nullable = true)\n",
      " |-- timestamp: timestamp (nullable = true)\n",
      " |-- user_id: string (nullable = true)\n",
      " |-- book_id: integer (nullable = true)\n",
      " |-- country: string (nullable = true)\n",
      " |-- book_title: string (nullable = true)\n",
      " |-- book_subtitle: string (nullable = true)\n",
      " |-- book_author: string (nullable = true)\n",
      " |-- book_narrator: string (nullable = true)\n",
      " |-- audio_runtime: string (nullable = true)\n",
      " |-- audiobook_type: string (nullable = true)\n",
      " |-- categories: string (nullable = true)\n",
      " |-- rating: double (nullable = true)\n",
      " |-- total_rating_count: integer (nullable = true)\n",
      " |-- price: float (nullable = true)\n",
      " |-- conversion_rate: double (nullable = true)\n",
      " |-- id: string (nullable = true)\n",
      "\n"
     ]
    }
   ],
   "source": [
    "df_cleaned.printSchema()"
   ]
  },
  {
   "cell_type": "code",
   "execution_count": 31,
   "id": "bea77ec5",
   "metadata": {},
   "outputs": [
    {
     "name": "stdout",
     "output_type": "stream",
     "text": [
      "+-------+-------------------+------------------+------------------+-------------------+\n",
      "|summary|             rating|total_rating_count|             price|    conversion_rate|\n",
      "+-------+-------------------+------------------+------------------+-------------------+\n",
      "|  count|            1029546|           1029546|           1029546|            1029546|\n",
      "|   mean|  4.657486018102979| 45073.48112857512| 31.52501595033251|  31.22510557552719|\n",
      "| stddev|0.20231891879910738| 49113.07024803145|10.850269817317649|0.11794000748703877|\n",
      "|    min|                1.0|                 1|               0.0|             31.033|\n",
      "|    max|                5.0|            242323|              84.0|             31.492|\n",
      "+-------+-------------------+------------------+------------------+-------------------+\n",
      "\n"
     ]
    }
   ],
   "source": [
    "df_cleaned.describe([\"rating\", \"total_rating_count\" ,\"price\",\"conversion_rate\"]).show()"
   ]
  },
  {
   "cell_type": "markdown",
   "id": "562c81b2",
   "metadata": {},
   "source": [
    "✅การวิเคราะห์:"
   ]
  },
  {
   "cell_type": "markdown",
   "id": "41fd93a5",
   "metadata": {},
   "source": [
    "| คอลัมน์              | หมายเหตุ                                                                            |\n",
    "| -------------------- | ----------------------------------------------------------------------------------- |\n",
    "| `rating`             | mean ≈ 4.65, stddev ≈ 0.2 → **แคบมาก** → unlikely มี outlier                        |\n",
    "| `price`              | mean ≈ 31.5, stddev ≈ 10.8 → กระจายเล็กน้อย แต่ไม่น่ามี outlier รุนแรง              |\n",
    "| `conversion_rate`    | mean ≈ 31.22, stddev ≈ 0.11 → **แคบมาก** → ไม่น่ามี outlier                         |\n",
    "| `total_rating_count` | mean ≈ 45,073, stddev ≈ 49,113 → **stddev สูงเกิน mean** → น่าจะมี outlier แน่นอน ✔ |"
   ]
  },
  {
   "cell_type": "markdown",
   "id": "f4dabe46",
   "metadata": {},
   "source": [
    "##### ใช้ IQR ตรวจ `total_rating_count`"
   ]
  },
  {
   "cell_type": "code",
   "execution_count": 32,
   "id": "4e4d675c",
   "metadata": {},
   "outputs": [
    {
     "name": "stdout",
     "output_type": "stream",
     "text": [
      "Lower: -58835.5, Upper: 130616.5\n"
     ]
    }
   ],
   "source": [
    "from pyspark.sql import functions as F\n",
    "\n",
    "# df คือ PySpark DataFrame\n",
    "quantiles = df_cleaned.approxQuantile(\"total_rating_count\", [0.25, 0.75], 0.01) # มีพารามิเตอร์ที่ 3 คือ relativeError → ยิ่งเล็กยิ่งแม่น (แต่อาจช้าลง)\n",
    "Q1, Q3 = quantiles\n",
    "IQR = Q3 - Q1\n",
    "\n",
    "lower_bound = Q1 - 1.5 * IQR\n",
    "upper_bound = Q3 + 1.5 * IQR\n",
    "\n",
    "print(f\"Lower: {lower_bound}, Upper: {upper_bound}\")"
   ]
  },
  {
   "cell_type": "markdown",
   "id": "bf1056b5",
   "metadata": {},
   "source": [
    "- ค่าที่มีมากกว่า 130616.5 มีค่าผิดปกติเป็น outlier"
   ]
  },
  {
   "cell_type": "markdown",
   "id": "9f3fb2c1",
   "metadata": {},
   "source": [
    "หาค่าทั้งหมดที่เป็น outlier :"
   ]
  },
  {
   "cell_type": "code",
   "execution_count": 33,
   "id": "7ccb8776",
   "metadata": {},
   "outputs": [
    {
     "name": "stdout",
     "output_type": "stream",
     "text": [
      "+----------+-------------------+--------+-------+--------------------+--------------------+--------------------+--------------+------------------+------------------+--------------------+--------------------+------+------------------+-----+---------------+----+\n",
      "|      date|          timestamp| user_id|book_id|             country|          book_title|       book_subtitle|   book_author|     book_narrator|     audio_runtime|      audiobook_type|          categories|rating|total_rating_count|price|conversion_rate|  id|\n",
      "+----------+-------------------+--------+-------+--------------------+--------------------+--------------------+--------------+------------------+------------------+--------------------+--------------------+------+------------------+-----+---------------+----+\n",
      "|2021-05-01|2021-05-01 00:01:00|4c9c8d9b|    221|         Netherlands|Where the Crawdad...|         No Subtitle|   Delia Owens|Cassandra Campbell|12 hrs and 12 mins|Unabridged Audiobook|Literature & Fiction|   4.8|            191898| 31.5|          31.14|2055|\n",
      "|2021-05-01|2021-05-01 00:01:00|8f377a9c|   2269|               Spain|            Becoming|         No Subtitle|Michelle Obama|    Michelle Obama| 19 hrs and 3 mins|Unabridged Audiobook|Biographies & Mem...|   4.9|            167195|35.71|          31.14|2055|\n",
      "|2021-05-01|2021-05-01 00:01:00|27794775|     36|United States of ...|The Subtle Art of...|A Counterintuitiv...|   Mark Manson|       Roger Wayne| 5 hrs and 17 mins|Unabridged Audiobook|Relationships, Pa...|   4.5|            143539|23.95|          31.14|2055|\n",
      "|2021-05-01|2021-05-01 00:01:00|bfe3c5c3|   2269|         Philippines|            Becoming|         No Subtitle|Michelle Obama|    Michelle Obama| 19 hrs and 3 mins|Unabridged Audiobook|Biographies & Mem...|   4.9|            167195|35.71|          31.14|2055|\n",
      "|2021-05-01|2021-05-01 00:02:00|df5c77d5|    805|         Philippines|Harry Potter and ...|         No Subtitle|  J.K. Rowling|          Jim Dale| 8 hrs and 18 mins|Unabridged Audiobook|Children's Audiob...|   4.9|            137873|29.99|          31.14|2055|\n",
      "|2021-05-01|2021-05-01 00:02:00|ad6ad20a|    805|              Brazil|Harry Potter and ...|         No Subtitle|  J.K. Rowling|          Jim Dale| 8 hrs and 18 mins|Unabridged Audiobook|Children's Audiob...|   4.9|            137873|29.99|          31.14|2055|\n",
      "|2021-05-01|2021-05-01 00:03:00|b71cb2b3|    106|United States of ...|       Can't Hurt Me|Master Your Mind ...| David Goggins|     David Goggins|13 hrs and 37 mins|Unabridged Audiobook|Relationships, Pa...|   4.9|            136442|24.95|          31.14|2055|\n",
      "|2021-05-01|2021-05-01 00:04:00|8762c506|   2269|              Brazil|            Becoming|         No Subtitle|Michelle Obama|    Michelle Obama| 19 hrs and 3 mins|Unabridged Audiobook|Biographies & Mem...|   4.9|            167195|35.71|          31.14|2055|\n",
      "|2021-05-01|2021-05-01 00:04:00|eaa2efb9|    203|United States of ...|    Ready Player One|         No Subtitle|  Ernest Cline|       Wil Wheaton|15 hrs and 40 mins|Unabridged Audiobook|Science Fiction &...|   4.8|            242323| 31.5|          31.14|2055|\n",
      "|2021-05-01|2021-05-01 00:06:00|30074fb9|     36|United States of ...|The Subtle Art of...|A Counterintuitiv...|   Mark Manson|       Roger Wayne| 5 hrs and 17 mins|Unabridged Audiobook|Relationships, Pa...|   4.5|            143539|23.95|          31.14|2055|\n",
      "|2021-05-01|2021-05-01 00:07:00|e4a164aa|     36|United States of ...|The Subtle Art of...|A Counterintuitiv...|   Mark Manson|       Roger Wayne| 5 hrs and 17 mins|Unabridged Audiobook|Relationships, Pa...|   4.5|            143539|23.95|          31.14|2055|\n",
      "|2021-05-01|2021-05-01 00:07:00|309d774e|    106|             Hungary|       Can't Hurt Me|Master Your Mind ...| David Goggins|     David Goggins|13 hrs and 37 mins|Unabridged Audiobook|Relationships, Pa...|   4.9|            136442|24.95|          31.14|2055|\n",
      "|2021-05-01|2021-05-01 00:08:00|189cbf9e|     36|             Bahamas|The Subtle Art of...|A Counterintuitiv...|   Mark Manson|       Roger Wayne| 5 hrs and 17 mins|Unabridged Audiobook|Relationships, Pa...|   4.5|            143539|23.95|          31.14|2055|\n",
      "|2021-05-01|2021-05-01 00:08:00|b37eb0bc|    993|United States of ...|The Girl on the T...|             A Novel| Paula Hawkins|     Clare Corbett|10 hrs and 58 mins|Unabridged Audiobook|Literature & Fiction|   4.4|            137770| 28.0|          31.14|2055|\n",
      "|2021-05-01|2021-05-01 00:09:00|ce84093f|    993|             Croatia|The Girl on the T...|             A Novel| Paula Hawkins|     Clare Corbett|10 hrs and 58 mins|Unabridged Audiobook|Literature & Fiction|   4.4|            137770| 28.0|          31.14|2055|\n",
      "|2021-05-01|2021-05-01 00:10:00|72627bc7|    203|United States of ...|    Ready Player One|         No Subtitle|  Ernest Cline|       Wil Wheaton|15 hrs and 40 mins|Unabridged Audiobook|Science Fiction &...|   4.8|            242323| 31.5|          31.14|2055|\n",
      "|2021-05-01|2021-05-01 00:10:00|5b57177a|    106|United States of ...|       Can't Hurt Me|Master Your Mind ...| David Goggins|     David Goggins|13 hrs and 37 mins|Unabridged Audiobook|Relationships, Pa...|   4.9|            136442|24.95|          31.14|2055|\n",
      "|2021-05-01|2021-05-01 00:11:00|7bd4af0d|     36|United States of ...|The Subtle Art of...|A Counterintuitiv...|   Mark Manson|       Roger Wayne| 5 hrs and 17 mins|Unabridged Audiobook|Relationships, Pa...|   4.5|            143539|23.95|          31.14|2055|\n",
      "|2021-05-01|2021-05-01 00:11:00|d4fcb7b9|    993|             Greece |The Girl on the T...|             A Novel| Paula Hawkins|     Clare Corbett|10 hrs and 58 mins|Unabridged Audiobook|Literature & Fiction|   4.4|            137770| 28.0|          31.14|2055|\n",
      "|2021-05-01|2021-05-01 00:13:00|4cc3121e|    203|          Montenegro|    Ready Player One|         No Subtitle|  Ernest Cline|       Wil Wheaton|15 hrs and 40 mins|Unabridged Audiobook|Science Fiction &...|   4.8|            242323| 31.5|          31.14|2055|\n",
      "+----------+-------------------+--------+-------+--------------------+--------------------+--------------------+--------------+------------------+------------------+--------------------+--------------------+------+------------------+-----+---------------+----+\n",
      "only showing top 20 rows\n",
      "\n"
     ]
    }
   ],
   "source": [
    "df_cleaned.filter((col(\"total_rating_count\") < lower_bound) | (col(\"total_rating_count\") > upper_bound)).show()"
   ]
  },
  {
   "cell_type": "markdown",
   "id": "19cfd624",
   "metadata": {},
   "source": [
    "✅ 2. ต่อด้วย Boxplot หรือ Histogram (เมื่อเจอ outlier)"
   ]
  },
  {
   "cell_type": "markdown",
   "id": "1046f525",
   "metadata": {},
   "source": [
    "- เพื่อดูว่า outlier มีแค่ 1-2 ตัว หรือหลายตัวกระจุกอยู่แปลก ๆ"
   ]
  },
  {
   "cell_type": "code",
   "execution_count": 34,
   "id": "85730fc6",
   "metadata": {},
   "outputs": [
    {
     "name": "stdout",
     "output_type": "stream",
     "text": [
      "Requirement already satisfied: seaborn in c:\\users\\admin\\appdata\\local\\programs\\python\\python310\\lib\\site-packages (0.13.2)Note: you may need to restart the kernel to use updated packages.\n",
      "\n",
      "Requirement already satisfied: numpy!=1.24.0,>=1.20 in c:\\users\\admin\\appdata\\local\\programs\\python\\python310\\lib\\site-packages (from seaborn) (2.2.6)\n",
      "Requirement already satisfied: pandas>=1.2 in c:\\users\\admin\\appdata\\local\\programs\\python\\python310\\lib\\site-packages (from seaborn) (2.3.1)\n",
      "Requirement already satisfied: matplotlib!=3.6.1,>=3.4 in c:\\users\\admin\\appdata\\local\\programs\\python\\python310\\lib\\site-packages (from seaborn) (3.10.3)\n",
      "Requirement already satisfied: pyparsing>=2.3.1 in c:\\users\\admin\\appdata\\local\\programs\\python\\python310\\lib\\site-packages (from matplotlib!=3.6.1,>=3.4->seaborn) (3.2.3)\n",
      "Requirement already satisfied: kiwisolver>=1.3.1 in c:\\users\\admin\\appdata\\local\\programs\\python\\python310\\lib\\site-packages (from matplotlib!=3.6.1,>=3.4->seaborn) (1.4.8)\n",
      "Requirement already satisfied: packaging>=20.0 in c:\\users\\admin\\appdata\\roaming\\python\\python310\\site-packages (from matplotlib!=3.6.1,>=3.4->seaborn) (25.0)\n",
      "Requirement already satisfied: python-dateutil>=2.7 in c:\\users\\admin\\appdata\\roaming\\python\\python310\\site-packages (from matplotlib!=3.6.1,>=3.4->seaborn) (2.9.0.post0)\n",
      "Requirement already satisfied: pillow>=8 in c:\\users\\admin\\appdata\\local\\programs\\python\\python310\\lib\\site-packages (from matplotlib!=3.6.1,>=3.4->seaborn) (11.3.0)\n",
      "Requirement already satisfied: contourpy>=1.0.1 in c:\\users\\admin\\appdata\\local\\programs\\python\\python310\\lib\\site-packages (from matplotlib!=3.6.1,>=3.4->seaborn) (1.3.2)\n",
      "Requirement already satisfied: fonttools>=4.22.0 in c:\\users\\admin\\appdata\\local\\programs\\python\\python310\\lib\\site-packages (from matplotlib!=3.6.1,>=3.4->seaborn) (4.59.0)\n",
      "Requirement already satisfied: cycler>=0.10 in c:\\users\\admin\\appdata\\local\\programs\\python\\python310\\lib\\site-packages (from matplotlib!=3.6.1,>=3.4->seaborn) (0.12.1)\n",
      "Requirement already satisfied: tzdata>=2022.7 in c:\\users\\admin\\appdata\\local\\programs\\python\\python310\\lib\\site-packages (from pandas>=1.2->seaborn) (2025.2)\n",
      "Requirement already satisfied: pytz>=2020.1 in c:\\users\\admin\\appdata\\local\\programs\\python\\python310\\lib\\site-packages (from pandas>=1.2->seaborn) (2025.2)\n",
      "Requirement already satisfied: six>=1.5 in c:\\users\\admin\\appdata\\roaming\\python\\python310\\site-packages (from python-dateutil>=2.7->matplotlib!=3.6.1,>=3.4->seaborn) (1.17.0)\n"
     ]
    },
    {
     "name": "stderr",
     "output_type": "stream",
     "text": [
      "WARNING: You are using pip version 21.2.3; however, version 25.2 is available.\n",
      "You should consider upgrading via the 'c:\\Users\\Admin\\AppData\\Local\\Programs\\Python\\Python310\\python.exe -m pip install --upgrade pip' command.\n"
     ]
    }
   ],
   "source": [
    "%pip install seaborn"
   ]
  },
  {
   "cell_type": "markdown",
   "id": "932036bf",
   "metadata": {},
   "source": [
    "##### 📊 plot boxplot หลังทำ IQR"
   ]
  },
  {
   "cell_type": "markdown",
   "id": "070bffb1",
   "metadata": {},
   "source": [
    "🎯 เป้าหมายของการ Plot:\n",
    "\n",
    "- ✅ ดูการกระจายตัวของข้อมูล (Distribution)\n",
    "\n",
    "- ✅ ดูว่ามี outlier จริงไหม และอยู่ห่างจากกลุ่มหลักแค่ไหน\n",
    "\n",
    "- ✅ ดูว่า IQR ที่คุณใช้ detect มันเหมาะสมไหม\n",
    "\n",
    "- ✅ ใช้ตรวจสอบ bias ในข้อมูล (เช่น skew ไปทางซ้าย/ขวา)"
   ]
  },
  {
   "cell_type": "markdown",
   "id": "dc3164b6",
   "metadata": {},
   "source": [
    "##### ⚠️ สิ่งที่ต้องระวัง\n",
    "\n",
    "- อย่าสุ่มแบบไม่ fix `seed` เพราะอาจเจอหรือไม่เจอ outlier → ค่ากระจายอาจต่าง\n",
    "\n",
    "- อย่าใช้ `.toPandas()` บน DataFrame ใหญ่ → ใช้ `.sample()` + `.collect()` แทน\n",
    "\n",
    "- ถ้าไม่เห็น outlier บน boxplot = คุณอาจต้องเพิ่มจำนวน sample หรือรวม outlier เข้ามาให้ครบ\n",
    "\n",
    "- คือถ้าใช้ sample มันจะสุ่มค่าบางส่วนนำไปแสดงแต่ถ้าใช้ toPandas มันจะแปลงค่าทั้งหมดมา **ห้าม** ใช้กับข้อมูลที่ Big Data"
   ]
  },
  {
   "cell_type": "code",
   "execution_count": 35,
   "id": "15cee2a4",
   "metadata": {},
   "outputs": [
    {
     "data": {
      "image/png": "[encoded data removed]",
      "text/plain": [
       "<Figure size 640x480 with 1 Axes>"
      ]
     },
     "metadata": {},
     "output_type": "display_data"
    }
   ],
   "source": [
    "# Sample ข้อมูล แล้ว collect มาก่อน แทน toPandas() ตรง ๆ\n",
    "sample_data = df_cleaned.select(\"total_rating_count\").sample(fraction=0.1, seed=42).limit(1000).collect()\n",
    "\n",
    "# แปลงเป็น Pandas DataFrame ด้วยมือ\n",
    "import pandas as pd\n",
    "\n",
    "sample_df = pd.DataFrame(sample_data, columns=[\"total_rating_count\"]) # แปลงเป็น pandas\n",
    "\n",
    "# Plot ด้วย seaborn\n",
    "import seaborn as sns\n",
    "import matplotlib.pyplot as plt\n",
    "\n",
    "sns.boxplot(data=sample_df, x=\"total_rating_count\")\n",
    "plt.show()\n"
   ]
  },
  {
   "cell_type": "markdown",
   "id": "dd06c56c",
   "metadata": {},
   "source": [
    "✅ สิ่งที่เห็นในกราฟ:"
   ]
  },
  {
   "cell_type": "markdown",
   "id": "071aa85c",
   "metadata": {},
   "source": [
    "- เจอค่าที่ outlier อยู่หลายค่า"
   ]
  },
  {
   "cell_type": "markdown",
   "id": "731e5252",
   "metadata": {},
   "source": [
    " ##### เลือกว่าจะจัดการ outlier อย่างไร\n",
    "\n",
    "- สิ่งสำคัญต้องตรวจดูก่อนว่าค่าที่ outlier มันเป็นกรณีไหน\n",
    "\n",
    "- กรณีที่ไม่จริง :\n",
    "\n",
    "  - ❌ ตัดทิ้งเลย: ถ้ารู้ว่าเป็น noise หรือ error\n",
    "\n",
    "  - 🔄 แทนที่ด้วย median/mean: ถ้าไม่อยากให้เสีย record ไป\n",
    "\n",
    "  - ✅ ถ้าไม่แน่ใจ 100% แนะนำสร้าง flag ระบุว่าเป็น outlier เพื่อรอการตรวจสอบ\n",
    "\n",
    "- กรณีที่เป็นจริง :\n",
    "\n",
    "  - 🔄 ไม่ยุ่งกับมัน (Keep as-is) แค่ สร้าง flag ระบุว่าเป็น outlier\n",
    "\n",
    "  - ✅ เก็บไว้แยกวิเคราะห์ต่างหากแยกดูเฉพาะกลุ่มที่เป็น outlier ด้วยอีกชุด"
   ]
  },
  {
   "cell_type": "markdown",
   "id": "ed1e7e66",
   "metadata": {},
   "source": [
    "โดยฉันจะกำหนดให้ข้อมูลเป็นค่าจริง"
   ]
  },
  {
   "cell_type": "markdown",
   "id": "f4413d18",
   "metadata": {},
   "source": [
    "- จะทำการสร้าง flag เพื่อระบุว่าค่าไหนเป็น outlier"
   ]
  },
  {
   "cell_type": "code",
   "execution_count": 36,
   "id": "8cbc9b31",
   "metadata": {},
   "outputs": [],
   "source": [
    "df = df_cleaned.withColumn(\"is_outlier\", F.when(\n",
    "    (df_cleaned[\"total_rating_count\"] < lower_bound) | \n",
    "    (df_cleaned[\"total_rating_count\"] > upper_bound),\n",
    "    True).otherwise(False)\n",
    ")"
   ]
  },
  {
   "cell_type": "code",
   "execution_count": 37,
   "id": "fe283c93",
   "metadata": {},
   "outputs": [
    {
     "name": "stdout",
     "output_type": "stream",
     "text": [
      "+----------+-------------------+--------+-------+--------------------+--------------------+--------------------+-------------+---------------+------------------+--------------------+--------------------+------+------------------+-----+---------------+----+----------+\n",
      "|      date|          timestamp| user_id|book_id|             country|          book_title|       book_subtitle|  book_author|  book_narrator|     audio_runtime|      audiobook_type|          categories|rating|total_rating_count|price|conversion_rate|  id|is_outlier|\n",
      "+----------+-------------------+--------+-------+--------------------+--------------------+--------------------+-------------+---------------+------------------+--------------------+--------------------+------+------------------+-----+---------------+----+----------+\n",
      "|2021-05-01|2021-05-01 00:00:00|ad8eca41|   1584|            Portugal|        Sycamore Row|         No Subtitle| John Grisham|   Michael Beck|20 hrs and 46 mins|Unabridged Audiobook|Mystery, Thriller...|   4.6|             25863| 35.0|          31.14|2055|     false|\n",
      "|2021-05-01|2021-05-01 00:00:00|561b26c1|    829|United States of ...|The 5 Love Langua...|The Secret to Lov...| Gary Chapman|    Chris Fabry| 5 hrs and 48 mins|Unabridged Audiobook|Relationships, Pa...|   4.8|              2441|19.59|          31.14|2055|     false|\n",
      "|2021-05-01|2021-05-01 00:00:00|81f149e5|   1391|               Japan|       The Guardians|             A Novel| John Grisham|   Michael Beck|11 hrs and 50 mins|Unabridged Audiobook|Mystery, Thriller...|   4.6|             26781| 31.5|          31.14|2055|     false|\n",
      "|2021-05-01|2021-05-01 00:00:00|4f218413|   1586|              Taiwan|  How to Be a 3% Man|         No Subtitle|  Corey Wayne|    Corey Wayne| 7 hrs and 33 mins|Unabridged Audiobook|Relationships, Pa...|   4.8|             11459|19.95|          31.14|2055|     false|\n",
      "|2021-05-01|2021-05-01 00:00:00|a4066781|    300|United States of ...|Napoleon Hill's O...|The Secret to Fre...|Napoleon Hill|Dan John Miller| 5 hrs and 51 mins|Unabridged Audiobook|  Business & Careers|   4.8|              9305|17.49|          31.14|2055|     false|\n",
      "+----------+-------------------+--------+-------+--------------------+--------------------+--------------------+-------------+---------------+------------------+--------------------+--------------------+------+------------------+-----+---------------+----+----------+\n",
      "only showing top 5 rows\n",
      "\n"
     ]
    }
   ],
   "source": [
    "df.show(5)"
   ]
  },
  {
   "cell_type": "markdown",
   "id": "bee84bd3",
   "metadata": {},
   "source": [
    "### 5. Feature Engineering / Transformation"
   ]
  },
  {
   "cell_type": "markdown",
   "id": "b75bdfc8",
   "metadata": {},
   "source": [
    "ขั้นตอนนี้มีเป้าหมายเพื่อ ปรับปรุงคุณภาพของข้อมูล ให้เหมาะกับการวิเคราะห์หรือส่งต่อไปยังขั้นตอน downstream (เช่น ML หรือ Dashboard)"
   ]
  },
  {
   "cell_type": "markdown",
   "id": "2d2c6c64",
   "metadata": {},
   "source": [
    "##### 5.1 สร้าง Price ราคา THB "
   ]
  },
  {
   "cell_type": "markdown",
   "id": "8ffac45b",
   "metadata": {},
   "source": [
    "- ถ้าต้องการที่จะสร้าง col ที่เป็นหน่อย THB :"
   ]
  },
  {
   "cell_type": "code",
   "execution_count": 38,
   "id": "1f1bea10",
   "metadata": {},
   "outputs": [
    {
     "name": "stdout",
     "output_type": "stream",
     "text": [
      "+----------+-------------------+--------+-------+--------------------+--------------------+--------------------+-------------+---------------+------------------+--------------------+--------------------+------+------------------+-----+---------------+----+----------+------+\n",
      "|      date|          timestamp| user_id|book_id|             country|          book_title|       book_subtitle|  book_author|  book_narrator|     audio_runtime|      audiobook_type|          categories|rating|total_rating_count|price|conversion_rate|  id|is_outlier|   THB|\n",
      "+----------+-------------------+--------+-------+--------------------+--------------------+--------------------+-------------+---------------+------------------+--------------------+--------------------+------+------------------+-----+---------------+----+----------+------+\n",
      "|2021-05-01|2021-05-01 00:00:00|ad8eca41|   1584|            Portugal|        Sycamore Row|         No Subtitle| John Grisham|   Michael Beck|20 hrs and 46 mins|Unabridged Audiobook|Mystery, Thriller...|   4.6|             25863| 35.0|          31.14|2055|     false|1089.9|\n",
      "|2021-05-01|2021-05-01 00:00:00|561b26c1|    829|United States of ...|The 5 Love Langua...|The Secret to Lov...| Gary Chapman|    Chris Fabry| 5 hrs and 48 mins|Unabridged Audiobook|Relationships, Pa...|   4.8|              2441|19.59|          31.14|2055|     false|610.03|\n",
      "|2021-05-01|2021-05-01 00:00:00|81f149e5|   1391|               Japan|       The Guardians|             A Novel| John Grisham|   Michael Beck|11 hrs and 50 mins|Unabridged Audiobook|Mystery, Thriller...|   4.6|             26781| 31.5|          31.14|2055|     false|980.91|\n",
      "|2021-05-01|2021-05-01 00:00:00|4f218413|   1586|              Taiwan|  How to Be a 3% Man|         No Subtitle|  Corey Wayne|    Corey Wayne| 7 hrs and 33 mins|Unabridged Audiobook|Relationships, Pa...|   4.8|             11459|19.95|          31.14|2055|     false|621.24|\n",
      "|2021-05-01|2021-05-01 00:00:00|a4066781|    300|United States of ...|Napoleon Hill's O...|The Secret to Fre...|Napoleon Hill|Dan John Miller| 5 hrs and 51 mins|Unabridged Audiobook|  Business & Careers|   4.8|              9305|17.49|          31.14|2055|     false|544.64|\n",
      "+----------+-------------------+--------+-------+--------------------+--------------------+--------------------+-------------+---------------+------------------+--------------------+--------------------+------+------------------+-----+---------------+----+----------+------+\n",
      "only showing top 5 rows\n",
      "\n"
     ]
    }
   ],
   "source": [
    "from pyspark.sql.functions import round\n",
    "\n",
    "df = df.withColumn( \"THB\", round(col(\"price\") * col(\"conversion_rate\"), 2))\n",
    "\n",
    "df.show(5)"
   ]
  },
  {
   "cell_type": "markdown",
   "id": "c9392e9b",
   "metadata": {},
   "source": [
    "ลบ column ที่ไม่ได้ใช้งาน"
   ]
  },
  {
   "cell_type": "code",
   "execution_count": 39,
   "id": "02e90e52",
   "metadata": {},
   "outputs": [
    {
     "name": "stdout",
     "output_type": "stream",
     "text": [
      "root\n",
      " |-- timestamp: timestamp (nullable = true)\n",
      " |-- user_id: string (nullable = true)\n",
      " |-- book_id: integer (nullable = true)\n",
      " |-- country: string (nullable = true)\n",
      " |-- book_title: string (nullable = true)\n",
      " |-- book_subtitle: string (nullable = true)\n",
      " |-- book_author: string (nullable = true)\n",
      " |-- book_narrator: string (nullable = true)\n",
      " |-- audio_runtime: string (nullable = true)\n",
      " |-- audiobook_type: string (nullable = true)\n",
      " |-- categories: string (nullable = true)\n",
      " |-- rating: double (nullable = true)\n",
      " |-- total_rating_count: integer (nullable = true)\n",
      " |-- price: float (nullable = true)\n",
      " |-- conversion_rate: double (nullable = true)\n",
      " |-- is_outlier: boolean (nullable = false)\n",
      " |-- THB: double (nullable = true)\n",
      "\n",
      "+-------------------+--------+-------+--------------------+--------------------+--------------------+-------------+---------------+------------------+--------------------+--------------------+------+------------------+-----+---------------+----------+------+\n",
      "|          timestamp| user_id|book_id|             country|          book_title|       book_subtitle|  book_author|  book_narrator|     audio_runtime|      audiobook_type|          categories|rating|total_rating_count|price|conversion_rate|is_outlier|   THB|\n",
      "+-------------------+--------+-------+--------------------+--------------------+--------------------+-------------+---------------+------------------+--------------------+--------------------+------+------------------+-----+---------------+----------+------+\n",
      "|2021-05-01 00:00:00|ad8eca41|   1584|            Portugal|        Sycamore Row|         No Subtitle| John Grisham|   Michael Beck|20 hrs and 46 mins|Unabridged Audiobook|Mystery, Thriller...|   4.6|             25863| 35.0|          31.14|     false|1089.9|\n",
      "|2021-05-01 00:00:00|561b26c1|    829|United States of ...|The 5 Love Langua...|The Secret to Lov...| Gary Chapman|    Chris Fabry| 5 hrs and 48 mins|Unabridged Audiobook|Relationships, Pa...|   4.8|              2441|19.59|          31.14|     false|610.03|\n",
      "|2021-05-01 00:00:00|81f149e5|   1391|               Japan|       The Guardians|             A Novel| John Grisham|   Michael Beck|11 hrs and 50 mins|Unabridged Audiobook|Mystery, Thriller...|   4.6|             26781| 31.5|          31.14|     false|980.91|\n",
      "|2021-05-01 00:00:00|4f218413|   1586|              Taiwan|  How to Be a 3% Man|         No Subtitle|  Corey Wayne|    Corey Wayne| 7 hrs and 33 mins|Unabridged Audiobook|Relationships, Pa...|   4.8|             11459|19.95|          31.14|     false|621.24|\n",
      "|2021-05-01 00:00:00|a4066781|    300|United States of ...|Napoleon Hill's O...|The Secret to Fre...|Napoleon Hill|Dan John Miller| 5 hrs and 51 mins|Unabridged Audiobook|  Business & Careers|   4.8|              9305|17.49|          31.14|     false|544.64|\n",
      "+-------------------+--------+-------+--------------------+--------------------+--------------------+-------------+---------------+------------------+--------------------+--------------------+------+------------------+-----+---------------+----------+------+\n",
      "only showing top 5 rows\n",
      "\n"
     ]
    }
   ],
   "source": [
    "df = df.drop(\"date\", \"id\") # ลบ column ที่ไม่ต้องการ\n",
    "\n",
    "df.printSchema()\n",
    "df.show(5)"
   ]
  },
  {
   "cell_type": "markdown",
   "id": "52ac243c",
   "metadata": {},
   "source": [
    "### 6. Save Transformed Data"
   ]
  },
  {
   "cell_type": "markdown",
   "id": "a0b36809",
   "metadata": {},
   "source": [
    "- บันทึกข้อมูลหลังจาก transform แล้วเป็นไฟล์ CSV สำหรับนำไปใช้ในขั้นตอนถัดไป เช่น Load เข้า Data Warehouse"
   ]
  },
  {
   "cell_type": "markdown",
   "id": "e643e572",
   "metadata": {},
   "source": [
    "✅ Tips"
   ]
  },
  {
   "cell_type": "markdown",
   "id": "37376b1f",
   "metadata": {},
   "source": [
    "- ใช้ lowercase + underscore ในชื่อไฟล์ (ไม่เว้นวรรค)\n",
    "\n",
    "- อย่าลืม .csv และใส่ header=True\n",
    "\n",
    "- ถ้าอยาก versioning ก็เพิ่มวันที่ เช่น _v1, _20240731"
   ]
  },
  {
   "cell_type": "code",
   "execution_count": 49,
   "id": "a7a2aeb2",
   "metadata": {},
   "outputs": [],
   "source": [
    "df.write.mode(\"overwrite\").option(\"header\", True).csv(\"../data/processed/book_revenue_cleaned.csv\")"
   ]
  },
  {
   "cell_type": "markdown",
   "id": "be28c557",
   "metadata": {},
   "source": [
    "- ถ้าเป็น Spark บันทึก `.csv` จะถูกเขียนเป็นโฟลเดอร์พร้อมไฟล์หลายพาร์ท (`part-0000...csv`)\n",
    "\n",
    "- ถ้าอยากรวมเป็นไฟล์เดียวไว้ใช้ภายหลังได้ด้วย Pandas หลังจาก `.toPandas()` แล้ว `.to_csv()` อีกครั้ง"
   ]
  }
 ],
 "metadata": {
  "kernelspec": {
   "display_name": "Python 3",
   "language": "python",
   "name": "python3"
  },
  "language_info": {
   "codemirror_mode": {
    "name": "ipython",
    "version": 3
   },
   "file_extension": ".py",
   "mimetype": "text/x-python",
   "name": "python",
   "nbconvert_exporter": "python",
   "pygments_lexer": "ipython3",
   "version": "3.10.0"
  }
 },
 "nbformat": 4,
 "nbformat_minor": 5
}
